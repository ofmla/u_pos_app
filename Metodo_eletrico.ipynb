{
 "cells": [
  {
   "cell_type": "markdown",
   "metadata": {
    "slideshow": {
     "slide_type": "slide"
    }
   },
   "source": [
    "# Instruções\n",
    "\n",
    "Esse documento é um [Jupyter notebook](http://jupyter.org/), um documento interativo que mistura texto (como esse), código (como abaixo), e o resultado de executar o código (números, texto, figuras, videos, etc).\n",
    "\n",
    "O notebook te fornecerá exemplos interativos que trabalham os temas abordados no questionário. Utilize esses exemplos para responder as perguntas.\n",
    "\n",
    "As células com números ao lado, como `In [1]:`, são código [Python](https://www.python.org/). Algumas dessas células não produzem resultado e servem de preparação para os exemplos interativos. Outras, produzem gráficos interativos. **Você deve executar todas as células, uma de cada vez**, mesmo as que não produzem gráficos.\n",
    "\n",
    "**Para executar uma célula**, clique em cima dela e aperte `SHIFT+ENTER` ou presione o botão de *Run* (<button class='fa fa-play icon-play btn btn-xs btn-default'></button>) na barra de ferramentas acima. O foco (contorno verde ou cinza em torno da célula) deverá passar para a célula abaixo. Para rodá-la, aperte `SHIFT+ENTER` novamente e assim por diante. Você pode executar células de texto que não acontecerá nada.\n",
    "\n",
    "Usando os *widgets* contidos neste notebook, você desenvolverá uma melhor compreensão de quais valores são realmente medidos em um levantamento de resistividade num modo DC (corrente contínua) e como essas medidas podem ser processadas, plotadas, invertidas e interpretadas. Usaremos alguns aplicativos da [GPG](https://gpg.geosci.xyz/index.html), um recurso de aprendizado para geofísica aplicada desenvolvido por pesquisadores e estudantes da University of British Columbia."
   ]
  },
  {
   "cell_type": "markdown",
   "metadata": {
    "slideshow": {
     "slide_type": "slide"
    }
   },
   "source": [
    "# Por que usar Jupyter Notebook? \n",
    "\n",
    "Veja o artigo [Interactive notebooks: Sharing the code](http://www.nature.com/polopoly_fs/1.16261!/menu/main/topColumns/topLeftColumn/pdf/515151a.pdf) da revista nature"
   ]
  },
  {
   "cell_type": "markdown",
   "metadata": {
    "slideshow": {
     "slide_type": "slide"
    }
   },
   "source": [
    "<p class=\"alert alert-warning\" role=\"alert\"><strong>Atenção!</strong> Esse notebook corresponde a aula <strong>6: Métodos Elétricos </strong> </p>\n",
    "\n",
    "##### Autor:\n",
    "\n",
    "* Dr. Oscar Fabian Mojica Ladino ([@ofmla](https://github.com/ofmla))"
   ]
  },
  {
   "cell_type": "markdown",
   "metadata": {
    "slideshow": {
     "slide_type": "subslide"
    }
   },
   "source": [
    "# Setup\n",
    "\n",
    "Rode as células abaixo para carregar os módulos necessários para essa prática."
   ]
  },
  {
   "cell_type": "code",
   "execution_count": 1,
   "metadata": {
    "slideshow": {
     "slide_type": "subslide"
    },
    "tags": []
   },
   "outputs": [],
   "source": [
    "import warnings\n",
    "warnings.filterwarnings(\"ignore\")\n",
    "from geoscilabs.dcip.DC_cylinder import cylinder_app\n",
    "from geoscilabs.dcip.DCLayers import plot_layer_potentials_app\n",
    "from geoscilabs.dcip.DC_Pseudosections import (\n",
    "    DC2DPseudoWidget, MidpointPseudoSectionWidget, DC2DfwdWidget\n",
    ")"
   ]
  },
  {
   "cell_type": "markdown",
   "metadata": {
    "slideshow": {
     "slide_type": "slide"
    }
   },
   "source": [
    "# 4. Métodos Elétricos: Método de Resistividade\n",
    "\n",
    "## Introdução\n",
    "\n",
    "Há muitos métodos de levantamento elétrico. Alguns fazem uso de campos dentro da Terra, enquanto outros requerem a introdução no solo de correntes geradas artificialmente.\n",
    " - **método de resistividade** é usado no estudo de descontinuidades horizontais e verticais nas propiedades elétricas do solo e também na detecção de corpos tridimensionais de condutividade elétrica anômala.\n",
    " - **método de polarização induzida** faz uso da ação capacitiva da subsuperfície para localizar zonas onde os minerais condutivos estão disseminados denro de rochas hospedeiras.\n",
    " - **método de potencial espontâneo** faz uso de correntes naturais fluindo no solo, que são geradas por processos eletroquímicos, para localizar corpos rasos de condutividade anômala."
   ]
  },
  {
   "cell_type": "markdown",
   "metadata": {
    "slideshow": {
     "slide_type": "slide"
    }
   },
   "source": [
    "## Método de resistividade\n",
    "\n",
    "Para levantamentos de resistividade DC, a fonte de energia é um gerador que injeta uma corrente constante no solo usando dois eletrodos. Os \"sinais de saída\" (dados) são voltagens medidas em vários locais da superfície. Os desvios do padrão de diferenças de potencial esperado do solo homogêneo fornecem informações sobre a forma e as propriedades elétricas das inomogeneidades de subsuperfície.\n",
    "\n",
    "O método de resistividade é sensível à condutividade elétrica $\\sigma$ (Siemens/metro). Às vezes trabalha-se com o inverso da condutividade que é a resistividade elétrica $\\rho$ que tem unidades $\\Omega$m (ohm-metro). A condutividade elétrica caracteriza a facilidade com que a corrente flui através do material quando uma força elétrica é aplicada. \n",
    "\n",
    "A condutividade/resistividade elétrica dos materiais da Terra varia em muitas ordens de grandeza. Depende de muitos fatores, incluindo: tipo de rocha, porosidade, conectividade de poros, natureza do fluido e teor metálico da matriz sólida. Uma indicação muito grosseira da faixa de cresistividade para rochas e minerais é apresentada na Figura abaixo\n",
    "<br />\n",
    "<br />\n",
    "<img style=\"float: center; width: 50%; height: 50%\" src=\"svg/resistividade.svg\">\n",
    "<center>O intervalo aproximado de valores de resistividade dos tipos comuns de rocha. </center>   "
   ]
  },
  {
   "cell_type": "markdown",
   "metadata": {
    "slideshow": {
     "slide_type": "slide"
    }
   },
   "source": [
    "## Fluxo de corrente em um modelo de Terra homogeneo \n",
    "\n",
    "Considere uma Terra uniforme e um eletrodo, que está injetando uma corrente _I_ para o solo. Queremos encontrar o potencial elétrico dentro do solo a uma distância _r_, da fonte atual. A densidade de corrente no solo está relacionada à corrente de fonte injetada e flui radialmente para fora de sua fonte pontual. O potencial medido em uma superfície definida por _r_ está relacionado ao campo elétrico que existe no solo devido à corrente. Essas duas relações serão combinadas com a forma 3D da lei de Ohm para terminar com uma expressão de condutividade (a propriedade física que queremos) em termos da fonte atual, do potencial medido e da distância.\n",
    "<br />\n",
    "<br />\n",
    "<img style=\"float: center; width: 50%; height: 50%\" src=\"svg/out2.svg\">\n",
    "<center>Fluxo de corrente de um único eletrodo na superfície. </center>\n",
    "<br />\n",
    "\n",
    "Primeiro, por simetria a densidade de corrente fora do hemisfério de raio, *r*\n",
    "\n",
    "\\begin{equation}\n",
    "J=\\dfrac{I}{2\\pi r^{2}}\n",
    "\\end{equation}\n",
    "\n",
    "e a corrente está fluindo em direção radial. Desde $J = \\sigma E$ (Lei de Ohm), o campo elétrico também deve estar apontando radialmente para fora. A relação entre o campo elétrico e o potencial é\n",
    "\n",
    "\\begin{equation}\n",
    "E=-\\dfrac{dV(r)}{dr}\n",
    "\\end{equation}\n",
    "\n",
    "Combinando a expressão para $E$, $J$ e Lei de Ohm, temos\n",
    "\\begin{align}\n",
    "    J &= \\sigma\\dfrac{dV(r)}{dr} = \\dfrac{I}{2\\pi r^{2}}\\\\\n",
    "      &\\quad \\dfrac{dV(r)}{dr} = \\dfrac{-I}{2\\pi\\sigma r^{2}}\n",
    "\\end{align}\n",
    "\n",
    "O potencial à distância _r_ é, então obtido por integração\n",
    "\n",
    "\\begin{equation}\n",
    "V(r)=-\\dfrac{I}{2\\pi\\sigma r} + C\n",
    "\\end{equation}\n",
    "\n",
    "A constante de integração é zero, uma vez que $V(r)=0$ quando $r=\\infty$   "
   ]
  },
  {
   "cell_type": "markdown",
   "metadata": {
    "slideshow": {
     "slide_type": "slide"
    }
   },
   "source": [
    "## Resistividade aparente\n",
    "\n",
    "Se houver dois eletrodos de corrente (fonte), o potencial é a superposição dos efeitos de ambos. Em um experimento prático (figura abaixo), um eletrodo, $A$ , é o lado positivo de uma fonte de corrente, e o outro eletrodo, $B$ , é o lado negativo. A corrente em cada eletrodo é igual, mas de sinal oposto. Para uma pesquisa prática, precisamos de dois eletrodos para medir a diferença de potencial. Estes são $M$, o terminal positivo do voltímetro (o mais próximo ao eletrodo de corrente $A$ ), e $N$, o terminal negativo do voltímetro.\n",
    "<br />\n",
    "<br />\n",
    "<img style=\"float: center; width: 50%; height: 50%\" src=\"svg/survey-crop.svg\">\n",
    "<center>A forma geral da configuração de eletrodo usada em medições de resistividade. </center>\n",
    "<br />\n",
    "O potencial $V_{M}$ num eletrodo interno $M$ é a soma das contribuições dos potenciais $V_{A}$ e $V_{B}$ da fonte de corrente em $A$ e do simidouro em $B$\n",
    "\n",
    "\\begin{equation}\n",
    "V_{M}=\\dfrac{I\\rho}{2\\pi}\\bigg\\{\\dfrac{1}{r_{AM}}-\\dfrac{1}{r_{BM}}\\bigg\\}\n",
    "\\end{equation}\n",
    "Simlarmente\n",
    "\\begin{equation}\n",
    "V_{N}=\\dfrac{I\\rho}{2\\pi}\\bigg\\{\\dfrac{1}{r_{AN}}-\\dfrac{1}{r_{BN}}\\bigg\\}\n",
    "\\end{equation}\n",
    "\n",
    "A diferença de potencial $\\Delta V= V_{m}-V_{N}$ entre os eletrodos $M$ e $N$ é dada por \n",
    "\n",
    "\\begin{equation}\n",
    "\\Delta V=\\dfrac{I\\rho}{2\\pi}\\bigg\\{\\dfrac{1}{r_{AM}}-\\dfrac{1}{r_{BM}} -\\dfrac{1}{r_{AN}}+\\dfrac{1}{r_{BN}} \\bigg\\}\n",
    "\\end{equation}\n",
    "\n",
    "\\begin{equation}\n",
    "\\Delta V=I\\rho G\n",
    "\\end{equation}\n",
    "\n",
    "Na relação final, $G$ é um fator geométrico que depende da geometria dos quatro eletrodos. Finalmente, podemos definir a resistividade aparente rearranjando a última expressão para dar:\n",
    "\n",
    "\\begin{equation}\n",
    "\\rho_{a}=\\dfrac{\\Delta V}{IG}\n",
    "\\end{equation}\n",
    "\n",
    "Usamos o termo resistividade aparente $\\rho_{a}$ porque é a verdadeira resistividade dos materiais apenas se a Terra for um semiespaço uniforme dentro do alcance do levantamento. Caso contrário, esse número representa alguma média complicada das resistividades de todos os materiais encontrados pelo campo atual.\n",
    "<img style=\"float: center; width: 50%; height: 50%\" src=\"svg/4surveys-crop.svg\">\n",
    "<center>Configurações comuns de eletrodos. </center>\n",
    "<br />"
   ]
  },
  {
   "cell_type": "markdown",
   "metadata": {
    "slideshow": {
     "slide_type": "subslide"
    }
   },
   "source": [
    "### Modelo do cilindro"
   ]
  },
  {
   "cell_type": "markdown",
   "metadata": {
    "slideshow": {
     "slide_type": "subslide"
    }
   },
   "source": [
    " - **survey**: Tipo de levantamento\n",
    " - **A**: (+) Localização do eletrodo de corrente\n",
    " - **B**: (-) Localização do eletrodo de corrente\n",
    " - **M**: (+) Localização do eletrodo de potencial\n",
    " - **N**: (-) Localização do eletrodo de potencial\n",
    " - **r**: Radio do cilindro\n",
    " - **xc**: Localização do centro do cilindro em x\n",
    " - **zc**: Localização do centro do cilindro em z\n",
    " - **$\\rho_1$**: Resistividade do meio\n",
    " - **$\\rho_2$**: Resistividade do cilindro\n",
    " - **Field**: Campo a ser visualizado\n",
    " - **Type**: Qual parte do campo\n",
    " - **Scale**: Visualização em escala linear ou logaritmica"
   ]
  },
  {
   "cell_type": "code",
   "execution_count": 2,
   "metadata": {
    "slideshow": {
     "slide_type": "slide"
    },
    "tags": []
   },
   "outputs": [
    {
     "data": {
      "application/vnd.jupyter.widget-view+json": {
       "model_id": "04438e5f7bc4437fb8edf9d902ff7161",
       "version_major": 2,
       "version_minor": 0
      },
      "text/plain": [
       "MyApp(children=(ToggleButtons(description='survey', options=('Dipole-Dipole', 'Dipole-Pole', 'Pole-Dipole', 'P…"
      ]
     },
     "execution_count": 2,
     "metadata": {},
     "output_type": "execute_result"
    }
   ],
   "source": [
    "cylinder_app()\n"
   ]
  },
  {
   "cell_type": "markdown",
   "metadata": {
    "slideshow": {
     "slide_type": "slide"
    }
   },
   "source": [
    "### Para pensar\n",
    "\n",
    "* Para qualquer dado espaçamento de eletrodo, que modelo de Terra resultará em tensões (volt) bastante pequenas? um modelo muito resistivo ou muito condutor? \n",
    "* A corrente e a tensão (após a remoção do SP) foram medidas como 100 miliamperes e 1 volt em duas configurações de eletrodos, um arranjo dipolo-dipolo e outro do tipo Wenner\n",
    "  * Qual foi a resistividade aparente para essas medidas no caso do arranjo dipolo-dipolo?\n",
    "  * Qual foi a resistividade aparente para essas medidas no caso do arranjo Wenner?"
   ]
  },
  {
   "cell_type": "markdown",
   "metadata": {
    "slideshow": {
     "slide_type": "slide"
    }
   },
   "source": [
    "## Levantamentos\n",
    "\n",
    "Dois tipos principais de procedimentos são empregados em levantamentos de resistividade\n",
    " - A **Sondagem elétrica vertical- SEV** usada principalmente no estudo de interfaces horizontais o quase horizontais. A corrente e os eletrodos de potencial\n",
    "    são  mantidos no mesmo espaçamento relativo , e o arranjo todo é progressivamente expandido ao redor de um ponto fixo central. Consequentemente, as leituras são\n",
    "<br />\n",
    "<br />\n",
    "<img style=\"float: center; width: 60%; height: 60%\" src=\"svg/sev-crop.svg\">\n",
    "<br />\n",
    " - O **Caminhamento de separação constante** usado para determinar variações verticais de resistividade. A corrente e os eletrodos de potencial são mantidos a uma separação fixa e progressivamente movidos ao longo do perfil. Esse método é empregado em prospecção mineral para localizar falhas ou zonas de cisalhamento e para detectar corpos localizados de condutividade anômala.\n",
    "<br />\n",
    "<br />\n",
    "<img style=\"float: center; width: 60%; height: 60%\" src=\"svg/caminhamento-crop.svg\">\n",
    "<br />"
   ]
  },
  {
   "cell_type": "markdown",
   "metadata": {
    "slideshow": {
     "slide_type": "slide"
    }
   },
   "source": [
    "## Interpretação da sondagem eletrica vertical\n",
    "\n",
    "Considere um arranjo de eletrodos de Wenner acima de uma interface horizontal única, entre meios com resistividades $\\rho_1$ (superior) e $\\rho_2$ (inferior), com $\\rho_1>\\rho_2$. Para isto usaremos um operador de modelagem implementado na libraria [pyGIMLi](https://www.pygimli.org/index.html). Rodando a proxima célula carregaremos os pacotes necessários para a demonstração. "
   ]
  },
  {
   "cell_type": "code",
   "execution_count": 3,
   "metadata": {
    "slideshow": {
     "slide_type": "subslide"
    },
    "tags": []
   },
   "outputs": [],
   "source": [
    "import numpy as np\n",
    "import matplotlib.pyplot as plt\n",
    "\n",
    "from pygimli.physics.ves import VESModelling\n",
    "from pygimli.viewer.mpl import drawModel1D"
   ]
  },
  {
   "cell_type": "markdown",
   "metadata": {
    "slideshow": {
     "slide_type": "subslide"
    }
   },
   "source": [
    "Definiremos o modelo rodando a seguinte célula"
   ]
  },
  {
   "cell_type": "code",
   "execution_count": 4,
   "metadata": {
    "slideshow": {
     "slide_type": "subslide"
    }
   },
   "outputs": [
    {
     "name": "stdout",
     "output_type": "stream",
     "text": [
      "[  0.1          0.11513954   0.13257114   0.1526418    0.17575106\n",
      "   0.20235896   0.23299518   0.26826958   0.30888436   0.35564803\n",
      "   0.40949151   0.47148664   0.54286754   0.62505519   0.71968567\n",
      "   0.82864277   0.95409548   1.09854114   1.26485522   1.45634848\n",
      "   1.67683294   1.93069773   2.22299648   2.55954792   2.9470517\n",
      "   3.39322177   3.90693994   4.49843267   5.17947468   5.96362332\n",
      "   6.86648845   7.90604321   9.10298178  10.48113134  12.06792641\n",
      "  13.89495494  15.9985872   18.42069969  21.20950888  24.42053095\n",
      "  28.11768698  32.37457543  37.2759372   42.9193426   49.41713361\n",
      "  56.89866029  65.51285569  75.43120063  86.85113738 100.        ]\n",
      "[3.33333333e-02 3.83798466e-02 4.41903789e-02 5.08805989e-02\n",
      " 5.85836875e-02 6.74529883e-02 7.76650604e-02 8.94231932e-02\n",
      " 1.02961453e-01 1.18549344e-01 1.36497169e-01 1.57162212e-01\n",
      " 1.80955848e-01 2.08351731e-01 2.39895224e-01 2.76214258e-01\n",
      " 3.18031825e-01 3.66180381e-01 4.21618406e-01 4.85449493e-01\n",
      " 5.58944312e-01 6.43565910e-01 7.40998828e-01 8.53182641e-01\n",
      " 9.82350568e-01 1.13107392e+00 1.30231331e+00 1.49947756e+00\n",
      " 1.72649156e+00 1.98787444e+00 2.28882948e+00 2.63534774e+00\n",
      " 3.03432726e+00 3.49371045e+00 4.02264214e+00 4.63165165e+00\n",
      " 5.33286240e+00 6.14023323e+00 7.06983629e+00 8.14017698e+00\n",
      " 9.37256233e+00 1.07915251e+01 1.24253124e+01 1.43064475e+01\n",
      " 1.64723779e+01 1.89662201e+01 2.18376186e+01 2.51437335e+01\n",
      " 2.89503791e+01 3.33333333e+01]\n"
     ]
    }
   ],
   "source": [
    "ab2 = np.logspace(-1, 2, 50)  # AB/2 distância (eletrodos de corrente)\n",
    "mn2 = ab2 / 3.  # MN/2 distância (eletrodos de potencial)\n",
    "print (ab2)\n",
    "print (mn2)"
   ]
  },
  {
   "cell_type": "markdown",
   "metadata": {
    "slideshow": {
     "slide_type": "subslide"
    }
   },
   "source": [
    "Inicializaremos o operador de modelagem"
   ]
  },
  {
   "cell_type": "code",
   "execution_count": 5,
   "metadata": {
    "slideshow": {
     "slide_type": "slide"
    }
   },
   "outputs": [],
   "source": [
    "fDC = VESModelling(ab2=ab2, mn2=mn2)\n",
    "synres = [500., 100.]  # resistividade das camadas\n",
    "synthk = [0.5]  # espessura das camadas (a enésima camada é infinita)"
   ]
  },
  {
   "cell_type": "markdown",
   "metadata": {
    "slideshow": {
     "slide_type": "subslide"
    }
   },
   "source": [
    "O operador *forward*  pode ser chamado po `fDC.response (model)` ou simplesmente `fDC(model)`"
   ]
  },
  {
   "cell_type": "code",
   "execution_count": 6,
   "metadata": {
    "slideshow": {
     "slide_type": "subslide"
    }
   },
   "outputs": [],
   "source": [
    "rhoa = fDC.response(synthk+synres)"
   ]
  },
  {
   "cell_type": "code",
   "execution_count": 7,
   "metadata": {
    "slideshow": {
     "slide_type": "slide"
    }
   },
   "outputs": [
    {
     "data": {
      "image/png": "[encoded data removed]",
      "text/plain": [
       "<Figure size 800x600 with 2 Axes>"
      ]
     },
     "metadata": {},
     "output_type": "display_data"
    }
   ],
   "source": [
    "fig, ax = plt.subplots(ncols=2, figsize=(8, 6),constrained_layout=True)  # two-column figure\n",
    "drawModel1D(ax[0], synthk, synres, plot='semilogx', color='r')\n",
    "ax[0].grid(True, which='both')\n",
    "ax[0].set_ylabel('z (m)')\n",
    "ax[0].set_xlabel(r'$\\rho$ ($\\Omega$m)')\n",
    "ax[1].loglog(rhoa, ab2, 'rx-', label='dado')  # sounding curve\n",
    "ax[1].set_ylim((max(ab2), min(ab2)))  # downwards according to penetration\n",
    "ax[1].grid(True, which='both')\n",
    "ax[1].set_xlabel(r'$\\rho_a$ ($\\Omega$m)')\n",
    "ax[1].set_ylabel('AB/2 (m)')\n",
    "ax[1].legend(loc='best')\n",
    "plt.show()"
   ]
  },
  {
   "cell_type": "markdown",
   "metadata": {
    "slideshow": {
     "slide_type": "subslide"
    }
   },
   "source": [
    "Onde estão presentes três camadas horizontais, as curvas de resistividade aparente são mais complexas"
   ]
  },
  {
   "cell_type": "code",
   "execution_count": 8,
   "metadata": {
    "slideshow": {
     "slide_type": "subslide"
    }
   },
   "outputs": [],
   "source": [
    "synres = [100., 500., 300.]  # resistividade das camadas\n",
    "synthk = [0.5,2.]  # espessura das camadas (a enésima camda é infinita)\n",
    "###\n",
    "synres1 = [300., 100., 500.]  # resistividade das camadas\n",
    "synthk1 = [0.5,2.]  # espessura das camadas (a enésima camda é infinita)"
   ]
  },
  {
   "cell_type": "code",
   "execution_count": 9,
   "metadata": {
    "slideshow": {
     "slide_type": "slide"
    }
   },
   "outputs": [
    {
     "data": {
      "image/png": "[encoded data removed]",
      "text/plain": [
       "<Figure size 800x600 with 2 Axes>"
      ]
     },
     "metadata": {},
     "output_type": "display_data"
    }
   ],
   "source": [
    "rhoa = fDC(synthk+synres)\n",
    "rhoa1 = fDC(synthk1+synres1)\n",
    "###\n",
    "fig, ax = plt.subplots(ncols=2, figsize=(8, 6),constrained_layout=True)  # two-column figure\n",
    "drawModel1D(ax[0], synthk, synres, plot='semilogx', color='r')\n",
    "drawModel1D(ax[0], synthk1, synres1, color='b')\n",
    "ax[0].grid(True, which='both')\n",
    "ax[0].set_ylabel('z (m)')\n",
    "ax[0].set_xlabel(r'$\\rho$ ($\\Omega$m)')\n",
    "ax[1].loglog(rhoa, ab2, 'rx-', label=r'$\\rho_2>\\rho_3>\\rho_1$')  # sounding curve\n",
    "ax[1].loglog(rhoa1, ab2, 'b-', label=r'$\\rho_3>\\rho_1>\\rho_2$') \n",
    "ax[1].set_ylim((max(ab2), min(ab2)))  # downwards according to penetration\n",
    "ax[1].grid(True, which='both')\n",
    "ax[1].set_xlabel(r'$\\rho_a$ ($\\Omega$m)')\n",
    "ax[1].set_ylabel('AB/2 (m)')\n",
    "ax[1].legend(loc='best')\n",
    "plt.show()"
   ]
  },
  {
   "cell_type": "markdown",
   "metadata": {
    "slideshow": {
     "slide_type": "slide"
    }
   },
   "source": [
    "### Calculo da resistividade aparente\n",
    "\n",
    "Na prática, não podemos medir os potenciais em todos os lugares, estamos limitados aos locais onde colocamos eletrodos. Para cada fonte (par de eletrodos de corrente) muitas diferenças de potencial são medidas entre os pares de eletrodos M e N para caracterizar a distribuição geral dos potenciais. O *widget* abaixo permite visualizar os potenciais, campos elétricos e densidades de corrente de uma fonte dipolo em um modelo simples com 2 camadas. Para diferentes configurações de eletrodos, você pode medir as diferenças de potencial e ver as resistividades aparentes calculadas.\n",
    "\n",
    "No gráfico superior, a localização do eletrodo A é marcada pelo + vermelho , o eletrodo B é marcado pelo - azul, e os eletrodos de potencial M/N são marcados pelos pontos pretos. Os potenciais de $V_M$ e $V_N$ são impressos logo acima e à direita dos pontos pretos. A resistividade aparente calculada é mostrada na caixa cinza à direita. O gráfico inferior pode mostrar o modelo de resistividade, os campos elétricos (e), potenciais ou densidades de corrente (j) dependendo de qual botão de alternância é selecionado. Temos que esperar um pouco para que os gráficos sejam atualizados após os parâmetros terem sido alterados."
   ]
  },
  {
   "cell_type": "markdown",
   "metadata": {
    "slideshow": {
     "slide_type": "slide"
    }
   },
   "source": [
    " - **A**: (+) Localização do eletrodo de corrente\n",
    " - **B**: (-) Localização do eletrodo de corrente\n",
    " - **M**: (+) Localização do eletrodo de potencial\n",
    " - **N**: (-) Localização do eletrodo de potencial\n",
    " - **$\\rho_1$**: Resistividade da camada superior\n",
    " - **$\\rho_2$**: Resistividade da camada inferior\n",
    " - **h**: Espessura da camada superior\n",
    " - **Plot**: Campo a ser visualizado"
   ]
  },
  {
   "cell_type": "code",
   "execution_count": 10,
   "metadata": {
    "slideshow": {
     "slide_type": "slide"
    }
   },
   "outputs": [
    {
     "data": {
      "application/vnd.jupyter.widget-view+json": {
       "model_id": "310af027a34c407aa96d46e20c8ad182",
       "version_major": 2,
       "version_minor": 0
      },
      "text/plain": [
       "MyApp(children=(FloatSlider(value=-30.0, continuous_update=False, description='A', max=40.0, min=-40.0, step=1…"
      ]
     },
     "execution_count": 10,
     "metadata": {},
     "output_type": "execute_result"
    }
   ],
   "source": [
    "plot_layer_potentials_app()"
   ]
  },
  {
   "cell_type": "markdown",
   "metadata": {
    "slideshow": {
     "slide_type": "slide"
    }
   },
   "source": [
    "## Construindo  Pseudosseções\n",
    "\n",
    "Geralmente, os perfis 2D são plotados como pseudo-seções, estendendo linhas inclinadas a $45^{\\circ}$ para baixo a partir dos pontos médios dos pares de eletrodos, de potencial e de corrente A-B e M-N e plotando o valor correspondente de $\\Delta V_{MN}$, $\\rho_a$ ou o *misfit* na interseção dessas linhas, conforme mostrado abaixo. Para levantamentos polo-dipolo ou dipolo-polo, linha inclinada a $45^{\\circ}$ é simplesmente estendida a partir da localização do polo. Os valores são ,assim desenhados em profundidades que refletem o aumento da profundidade de penetração com o aumento da distância de separação dos eletrodos. Isto fornece uma idéia aproximada da região amostrada por cada ponto, mas o eixo vertical de uma pseudo-seção não é uma profundidade real.\n",
    "\n",
    "No *widget* abaixo, o ponto vermelho marca o ponto médio do dipolo atual ou a localização do eletrodo A em um arranjo polo-dipolo enquanto os pontos verdes marcam os pontos médios dos dipolos de potencial ou a localização do eletrodo M em um arranjo do tipo dipolo-polo. Os pontos azuis marcam a localização na pseudo-seção onde as linhas dos pontos médios do transmissor (Tx) e o receptor (Rx) se cruzam e os dados são plotados. Ao percorrer o Tx (pares de eletrodos de corrente) usando o controle deslizante, você pode ver como a pseudo-seção é construída\n",
    "\n",
    "As figuras mostradas abaixo mostram como os pontos em uma pseudo-seção são plotados para arranjos polo-dipolo, dipolo-polo e dipolo-dipolo. O código de cores dos pontos corresponde aos mostrados no *widget*.\n",
    "<br />\n",
    "<br />\n",
    "<img style=\"float: center; width: 60%; height: 60%\" src=\"https://github.com/geoscixyz/geosci-labs/blob/main/images/dc/PoleDipole.png?raw=true\">\n",
    "<center>Esquema básico para um arranjo polo-dipolo uniformemente espaçado.\n",
    "<br />\n",
    "<br />\n",
    "<br />\n",
    "<img style=\"float: center; width: 60%; height: 60%\" src=\"https://github.com/geoscixyz/geosci-labs/blob/main/images/dc/DipolePole.png?raw=true\">\n",
    "<center>Esquema básico para um arranjo dipolo-polo uniformemente espaçado. \n",
    "<br />\n",
    "<br />\n",
    "<br />\n",
    "<img style=\"float: center; width: 60%; height: 60%\" src=\"https://github.com/geoscixyz/geosci-labs/blob/main/images/dc/DipoleDipole.png?raw=true\">\n",
    "<center>Esquema básico para um arranjo dipolo-dipolo uniformemente espaçado.\n",
    "<br />"
   ]
  },
  {
   "cell_type": "code",
   "execution_count": 11,
   "metadata": {
    "slideshow": {
     "slide_type": "slide"
    }
   },
   "outputs": [
    {
     "data": {
      "application/vnd.jupyter.widget-view+json": {
       "model_id": "8e7f4301ee2d4df4a37a5832378b89be",
       "version_major": 2,
       "version_minor": 0
      },
      "text/plain": [
       "MyApp(children=(IntSlider(value=0, description='i', max=17), Output()), layout=Layout(align_items='stretch', d…"
      ]
     },
     "execution_count": 11,
     "metadata": {},
     "output_type": "execute_result"
    }
   ],
   "source": [
    "MidpointPseudoSectionWidget()"
   ]
  },
  {
   "cell_type": "markdown",
   "metadata": {
    "slideshow": {
     "slide_type": "subslide"
    }
   },
   "source": [
    " - **$\\rho_1$**: Resistividade do meio\n",
    " - **$\\rho_2$**: Resistividade do cilindro\n",
    " - **xc**: Localização do centro do cilindro em x\n",
    " - **zc**: Localização do centro do cilindro em z\n",
    " - **r**: Radio do cilindro\n",
    " - **surveyType**: Tipo de levantamento\n",
    " \n",
    " ###  **Este aplicativo pode ser lento. Você precisa pressionar *Run Interact* para atualizar a figura depois de fazer modificações nos parâmetros**"
   ]
  },
  {
   "cell_type": "code",
   "execution_count": 12,
   "metadata": {
    "scrolled": true,
    "slideshow": {
     "slide_type": "slide"
    }
   },
   "outputs": [
    {
     "data": {
      "application/vnd.jupyter.widget-view+json": {
       "model_id": "9155df76b2de4647ac274949f4e98c61",
       "version_major": 2,
       "version_minor": 0
      },
      "text/plain": [
       "interactive(children=(BoundedFloatText(value=1000.0, description='$\\\\rho_1$', max=1000.0, min=10.0), BoundedFl…"
      ]
     },
     "execution_count": 12,
     "metadata": {},
     "output_type": "execute_result"
    }
   ],
   "source": [
    "DC2DPseudoWidget()"
   ]
  },
  {
   "cell_type": "markdown",
   "metadata": {
    "slideshow": {
     "slide_type": "slide"
    }
   },
   "source": [
    "## Inversão Parametrica\n",
    "\n",
    "Neste *widget* final, você é capaz de realizar a modelagem da resistividade aparente de um cilindro embutido em um semi espaço uniforme. Pseudo-seções da resistividade aparente podem ser geradas usando arranjos dipolo-dipolo, polo-dipolo ou dipolo-polo para ver como a geometria de levantamento pode distorcer o tamanho, forma e localização de corpos condutores em uma pseudo-seção. Devido à distorção e artefatos presentes em pseudo-seções tentar interpretá-las diretamente é tipicamente difícil e perigoso devido ao risco de má interpretação. Inverter os dados para encontrar um modelo que se ajuste aos dados observados e seja geologicamente razoável deve ser uma prática padrão. \n",
    "\n",
    "Variando sistematicamente os parâmetros do modelo e comparando os plots da resistividade aparente observada versus a predita, uma inversão paramétrica pode ser realizada manualmente para encontrar o modelo que melhor se ajusta. O *misfit* normalizado, que fornece uma medida numérica da diferença entre os dados observados e os dados calculados, é útil para quantificar quão bem o modelo invertido se ajusta aos dados observados. O processo de inversão manual pode ser difícil e demorado, mesmo com pequenos exemplos, como o apresentado aqui. Portanto, algoritmos de otimização numérica são tipicamente utilizados para minimizar a diferença (*misfit*) entre os dados através de uma função objetivo, que fornece informações sobre a estrutura e complexidade do modelo, a fim de encontrar uma solução ótima.\n",
    "\n",
    "Definição de variaveis:\n",
    "- **$\\rho_1$**: Resistividade do meio\n",
    "- **$\\rho_2$**: Resistividade do cilindro\n",
    "- **xc**: Localização do centro do cilindro em x\n",
    "- **zc**: Localização do centro do cilindro em z\n",
    "- **r**: Radio do cilindro\n",
    "- **predmis**: Botão de alternância que permite trocar o painel inferior da resistividade aparente calculada para o *misfit* normalizado\n",
    "- **suveyType**: Botão de alternância que permite escolher entre os tipos de arranjos.\n",
    " \n",
    " ###  **Este aplicativo pode ser lento. Você precisa pressionar *Run Interact* para atualizar a figura depois de fazer modificações nos parâmetros**"
   ]
  },
  {
   "cell_type": "code",
   "execution_count": 13,
   "metadata": {
    "slideshow": {
     "slide_type": "slide"
    }
   },
   "outputs": [
    {
     "data": {
      "application/vnd.jupyter.widget-view+json": {
       "model_id": "8b3265e48c194fa19ca1dc69dafa5c84",
       "version_major": 2,
       "version_minor": 0
      },
      "text/plain": [
       "MyApp(children=(BoundedFloatText(value=1000.0, description='$\\\\rho_1$', max=1000.0, min=10.0), BoundedFloatTex…"
      ]
     },
     "execution_count": 13,
     "metadata": {},
     "output_type": "execute_result"
    }
   ],
   "source": [
    "DC2DfwdWidget()"
   ]
  },
  {
   "cell_type": "code",
   "execution_count": null,
   "metadata": {},
   "outputs": [],
   "source": []
  }
 ],
 "metadata": {
  "anaconda-cloud": {},
  "celltoolbar": "Slideshow",
  "kernelspec": {
   "display_name": "Python 3 (ipykernel)",
   "language": "python",
   "name": "python3"
  },
  "language_info": {
   "codemirror_mode": {
    "name": "ipython",
    "version": 3
   },
   "file_extension": ".py",
   "mimetype": "text/x-python",
   "name": "python",
   "nbconvert_exporter": "python",
   "pygments_lexer": "ipython3",
   "version": "3.10.12"
  },
  "widgets": {
   "state": {
    "0202a4dd21c24302a603e710b4d9ff2c": {
     "views": [
      {
       "cell_index": 4
      }
     ]
    },
    "1363fe755ac4491f9397e3641ef9f882": {
     "views": [
      {
       "cell_index": 7
      }
     ]
    }
   },
   "version": "1.2.0"
  }
 },
 "nbformat": 4,
 "nbformat_minor": 4
}
